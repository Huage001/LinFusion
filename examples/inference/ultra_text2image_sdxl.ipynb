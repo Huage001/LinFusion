{
 "cells": [
  {
   "cell_type": "code",
   "execution_count": null,
   "metadata": {
    "tags": []
   },
   "outputs": [],
   "source": [
    "from src.pipelines.pipeline_highres_sdxl import StableDiffusionXLHighResPipeline\n",
    "import torch\n",
    "\n",
    "from src.linfusion import LinFusion\n",
    "from src.tools import seed_everything"
   ]
  },
  {
   "cell_type": "code",
   "execution_count": null,
   "metadata": {
    "tags": []
   },
   "outputs": [],
   "source": [
    "model_ckpt = \"stabilityai/stable-diffusion-xl-base-1.0\"\n",
    "device = torch.device('cuda')\n",
    "pipe = StableDiffusionXLHighResPipeline.from_pretrained(\n",
    "    model_ckpt, torch_dtype=torch.float16, variant='fp16'\n",
    ").to(device)"
   ]
  },
  {
   "cell_type": "code",
   "execution_count": null,
   "metadata": {
    "tags": []
   },
   "outputs": [],
   "source": [
    "linfusion = LinFusion.construct_for(pipe)"
   ]
  },
  {
   "cell_type": "code",
   "execution_count": null,
   "metadata": {
    "tags": []
   },
   "outputs": [],
   "source": [
    "prompt = \"An astronaut floating in space. Beautiful view of the stars and the universe in the background.\"\n",
    "generator = torch.manual_seed(42)\n",
    "pipe.enable_vae_tiling()\n",
    "images = pipe(prompt,\n",
    "              height=1024, width=2048, device=device,\n",
    "              num_inference_steps=50, guidance_scale=7.5,\n",
    "              cosine_scale_1=3, cosine_scale_2=1, cosine_scale_3=1, gaussian_sigma=0.8,\n",
    "              show_image=True, generator=generator, upscale_strength=0.32)"
   ]
  },
  {
   "cell_type": "code",
   "execution_count": null,
   "metadata": {},
   "outputs": [],
   "source": []
  }
 ],
 "metadata": {
  "kernelspec": {
   "display_name": "Python 3 (ipykernel)",
   "language": "python",
   "name": "python3"
  },
  "language_info": {
   "codemirror_mode": {
    "name": "ipython",
    "version": 3
   },
   "file_extension": ".py",
   "mimetype": "text/x-python",
   "name": "python",
   "nbconvert_exporter": "python",
   "pygments_lexer": "ipython3",
   "version": "3.8.10"
  }
 },
 "nbformat": 4,
 "nbformat_minor": 4
}

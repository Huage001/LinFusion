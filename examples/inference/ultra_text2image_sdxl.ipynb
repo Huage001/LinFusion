{
 "cells": [
  {
   "cell_type": "code",
   "execution_count": null,
   "metadata": {
    "tags": []
   },
   "outputs": [],
   "source": [
    "from src.third_party.demofusion.pipeline_highres_sdxl import StableDiffusionXLHighResPipeline\n",
    "# from src.third_party.demofusion.pipeline_demofusion_sdxl import DemoFusionSDXLPipeline\n",
    "import torch\n",
    "\n",
    "from src.linfusion import LinFusion\n",
    "from src.tools import seed_everything"
   ]
  },
  {
   "cell_type": "code",
   "execution_count": null,
   "metadata": {
    "tags": []
   },
   "outputs": [],
   "source": [
    "model_ckpt = \"stabilityai/stable-diffusion-xl-base-1.0\"\n",
    "device = torch.device('cuda')\n",
    "pipe = StableDiffusionXLHighResPipeline.from_pretrained(model_ckpt, torch_dtype=torch.float16, variant='fp16', local_files_only=True)\n",
    "# pipe = DemoFusionSDXLPipeline.from_pretrained(model_ckpt, torch_dtype=torch.float16, variant='fp16', local_files_only=True)\n",
    "pipe = pipe.to(device)"
   ]
  },
  {
   "cell_type": "code",
   "execution_count": null,
   "metadata": {
    "tags": []
   },
   "outputs": [],
   "source": [
    "linfusion = LinFusion.construct_for(pipe)"
   ]
  },
  {
   "cell_type": "code",
   "execution_count": null,
   "metadata": {
    "tags": []
   },
   "outputs": [],
   "source": [
    "prompt = \"An astronaut floating in space. Beautiful view of the stars and the universe in the background.\"\n",
    "# prompt = \"A photo of the Milky Way galaxy\"\n",
    "generator = torch.manual_seed(42)\n",
    "pipe.enable_vae_tiling()\n",
    "# prompt = \"Envision a portrait of an elderly woman, her face a canvas of time, framed by a headscarf with muted tones of rust and cream. Her eyes, blue like faded denim. Her attire, simple yet dignified.\"\n",
    "# negative_prompt = \"blurry, ugly, duplicate, poorly drawn, deformed, mosaic\"\n",
    "images = pipe(prompt, #negative_prompt=negative_prompt,\n",
    "              height=1024, width=2048, device=device, view_batch_size=16, stride=64,\n",
    "              num_inference_steps=50, guidance_scale=7.5,\n",
    "              cosine_scale_1=3, cosine_scale_2=1, cosine_scale_3=1, gaussian_sigma=0.8,\n",
    "              multi_decoder=True, show_image=True, generator=generator, upscale_strength=0.32)"
   ]
  },
  {
   "cell_type": "code",
   "execution_count": null,
   "metadata": {
    "tags": []
   },
   "outputs": [],
   "source": [
    "pipe._execution_device"
   ]
  },
  {
   "cell_type": "code",
   "execution_count": null,
   "metadata": {
    "tags": []
   },
   "outputs": [],
   "source": [
    "from diffusers import StableDiffusionXLImg2ImgPipeline"
   ]
  },
  {
   "cell_type": "code",
   "execution_count": null,
   "metadata": {
    "tags": []
   },
   "outputs": [],
   "source": [
    "model_ckpt = \"stabilityai/stable-diffusion-xl-base-1.0\"\n",
    "pipe = StableDiffusionXLImg2ImgPipeline.from_pretrained(model_ckpt, torch_dtype=torch.float16, variant='fp16', local_files_only=True)\n",
    "pipe = pipe.to(\"cuda\")"
   ]
  },
  {
   "cell_type": "code",
   "execution_count": null,
   "metadata": {
    "tags": []
   },
   "outputs": [],
   "source": [
    "prompt = \"An astronaut floating in space. Beautiful view of the stars and the universe in the background.\"\n",
    "generator = torch.manual_seed(42)\n",
    "pipe.enable_vae_tiling()\n",
    "# prompt = \"Envision a portrait of an elderly woman, her face a canvas of time, framed by a headscarf with muted tones of rust and cream. Her eyes, blue like faded denim. Her attire, simple yet dignified.\"\n",
    "negative_prompt = \"blurry, ugly, duplicate, poorly drawn, deformed, mosaic\"\n",
    "images_ = pipe(prompt, #negative_prompt=negative_prompt,\n",
    "              image=images.images[0][0].resize((2048, 2048)),\n",
    "              num_inference_steps=50, guidance_scale=7.5,\n",
    "              generator=generator, strength=0.32).images\n",
    "images_[0]"
   ]
  },
  {
   "cell_type": "code",
   "execution_count": null,
   "metadata": {},
   "outputs": [],
   "source": []
  }
 ],
 "metadata": {
  "kernelspec": {
   "display_name": "Python 3 (ipykernel)",
   "language": "python",
   "name": "python3"
  },
  "language_info": {
   "codemirror_mode": {
    "name": "ipython",
    "version": 3
   },
   "file_extension": ".py",
   "mimetype": "text/x-python",
   "name": "python",
   "nbconvert_exporter": "python",
   "pygments_lexer": "ipython3",
   "version": "3.8.10"
  }
 },
 "nbformat": 4,
 "nbformat_minor": 4
}

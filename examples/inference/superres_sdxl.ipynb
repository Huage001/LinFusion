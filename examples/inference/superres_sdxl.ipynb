{
 "cells": [
  {
   "cell_type": "code",
   "execution_count": null,
   "metadata": {
    "tags": []
   },
   "outputs": [],
   "source": [
    "from src.pipelines.pipeline_superres_sdxl import StableDiffusionXLSuperResPipeline\n",
    "from diffusers import AutoPipelineForText2Image\n",
    "import torch\n",
    "\n",
    "from src.linfusion import LinFusion"
   ]
  },
  {
   "cell_type": "code",
   "execution_count": null,
   "metadata": {
    "tags": []
   },
   "outputs": [],
   "source": [
    "model_ckpt = \"stabilityai/stable-diffusion-xl-base-1.0\"\n",
    "device = torch.device('cuda')\n",
    "\n",
    "pipe = AutoPipelineForText2Image.from_pretrained(\n",
    "    model_ckpt, torch_dtype=torch.float16, variant=\"fp16\"\n",
    ").to(device)"
   ]
  },
  {
   "cell_type": "code",
   "execution_count": null,
   "metadata": {
    "tags": []
   },
   "outputs": [],
   "source": [
    "prompt = \"An astronaut floating in space. Beautiful view of the stars and the universe in the background.\"\n",
    "generator = torch.manual_seed(123)\n",
    "image = pipe(\n",
    "    prompt, generator=generator\n",
    ").images[0]"
   ]
  },
  {
   "cell_type": "code",
   "execution_count": null,
   "metadata": {},
   "outputs": [],
   "source": [
    "image"
   ]
  },
  {
   "cell_type": "code",
   "execution_count": null,
   "metadata": {
    "tags": []
   },
   "outputs": [],
   "source": [
    "pipe = StableDiffusionXLSuperResPipeline.from_pretrained(\n",
    "    model_ckpt, torch_dtype=torch.float16, variant=\"fp16\"\n",
    ").to(device)"
   ]
  },
  {
   "cell_type": "code",
   "execution_count": null,
   "metadata": {
    "tags": []
   },
   "outputs": [],
   "source": [
    "linfusion = LinFusion.construct_for(pipe)"
   ]
  },
  {
   "cell_type": "code",
   "execution_count": null,
   "metadata": {
    "tags": []
   },
   "outputs": [],
   "source": [
    "generator = torch.manual_seed(123)\n",
    "pipe.enable_vae_tiling()\n",
    "image = pipe(image=image, prompt=prompt,\n",
    "             height=2048, width=2048, device=device, \n",
    "             num_inference_steps=50, guidance_scale=7.5,\n",
    "             cosine_scale_1=3, cosine_scale_2=1, cosine_scale_3=1, gaussian_sigma=0.8,\n",
    "             generator=generator, upscale_strength=0.32).images[0]"
   ]
  },
  {
   "cell_type": "code",
   "execution_count": null,
   "metadata": {
    "tags": []
   },
   "outputs": [],
   "source": [
    "image"
   ]
  },
  {
   "cell_type": "code",
   "execution_count": null,
   "metadata": {},
   "outputs": [],
   "source": []
  }
 ],
 "metadata": {
  "kernelspec": {
   "display_name": "Python 3 (ipykernel)",
   "language": "python",
   "name": "python3"
  },
  "language_info": {
   "codemirror_mode": {
    "name": "ipython",
    "version": 3
   },
   "file_extension": ".py",
   "mimetype": "text/x-python",
   "name": "python",
   "nbconvert_exporter": "python",
   "pygments_lexer": "ipython3",
   "version": "3.8.10"
  }
 },
 "nbformat": 4,
 "nbformat_minor": 4
}
